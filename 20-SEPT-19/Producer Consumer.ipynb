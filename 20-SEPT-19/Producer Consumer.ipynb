{
 "cells": [
  {
   "cell_type": "code",
   "execution_count": 10,
   "metadata": {},
   "outputs": [
    {
     "name": "stdout",
     "output_type": "stream",
     "text": [
      "Starting with 5 items.\n",
      "Loop For Producer :4\n",
      "Loop For Consumer :6\n",
      "Thu Nov 14 00:29:07 2019: Consumed an item.\n",
      "Thu Nov 14 00:29:10 2019: Consumed an item.\n",
      "Thu Nov 14 00:29:10 2019: Produced an item.\n",
      "Thu Nov 14 00:29:11 2019: Produced an item.\n",
      "Thu Nov 14 00:29:12 2019: Consumed an item.\n",
      "Thu Nov 14 00:29:14 2019: Consumed an item.\n",
      "Thu Nov 14 00:29:17 2019: Consumed an item.\n",
      "Thu Nov 14 00:29:19 2019: Produced an item.\n",
      "Thu Nov 14 00:29:19 2019: Consumed an item.\n",
      "Thu Nov 14 00:29:26 2019: Produced an item.\n",
      "Thu Nov 14 00:29:27 2019: Produced an item.\n",
      "Thu Nov 14 00:29:34 2019: Produced an item.\n",
      "All done.\n",
      "Thu Nov 14 00:29:53 2019: Full, skipping.\n"
     ]
    }
   ],
   "source": [
    "import random, time, threading \n",
    "from threading import BoundedSemaphore ,Thread\n",
    "\n",
    "max_items = 5\n",
    "\n",
    "container = BoundedSemaphore(max_items)\n",
    "\n",
    "def producer(nloops):\n",
    "    print( \"Loop For Producer :\" + str(nloops) )\n",
    "    for i in range(nloops):\n",
    "        time.sleep(random.randrange(7, 10))\n",
    "        print(time.ctime(), end=\": \")\n",
    "        try:\n",
    "            container.release()\n",
    "            print(\"Produced an item.\")\n",
    "        except ValueError:\n",
    "            print(\"Full, skipping.\")\n",
    "            \n",
    "def consumer(nloops):\n",
    "    print( \"Loop For Consumer :\" + str(nloops) )\n",
    "    for i in range(nloops):\n",
    "        time.sleep(random.randrange(2, 5))\n",
    "        print(time.ctime(), end=\": \")   \n",
    "        if container.acquire(False):\n",
    "            print(\"Consumed an item.\")\n",
    "        else:\n",
    "            print(\"Empty, skipping.\")\n",
    "            \n",
    "\n",
    "threads = []\n",
    "nloops = random.randrange(3, 6)\n",
    "print(\"Starting with %s items.\" % max_items)\n",
    "threads.append(Thread(target=producer, args=(nloops,)))\n",
    "threads.append(Thread(target=consumer, args=(random.randrange(nloops, nloops+max_items+2),)))\n",
    "\n",
    "for thread in threads: \n",
    "    thread.start()\n",
    "for thread in threads:\n",
    "    thread.join()\n",
    "print(\"All done.\")"
   ]
  },
  {
   "cell_type": "code",
   "execution_count": null,
   "metadata": {},
   "outputs": [],
   "source": []
  },
  {
   "cell_type": "code",
   "execution_count": null,
   "metadata": {},
   "outputs": [],
   "source": []
  }
 ],
 "metadata": {
  "kernelspec": {
   "display_name": "Python 3",
   "language": "python",
   "name": "python3"
  },
  "language_info": {
   "codemirror_mode": {
    "name": "ipython",
    "version": 3
   },
   "file_extension": ".py",
   "mimetype": "text/x-python",
   "name": "python",
   "nbconvert_exporter": "python",
   "pygments_lexer": "ipython3",
   "version": "3.7.3"
  }
 },
 "nbformat": 4,
 "nbformat_minor": 2
}
