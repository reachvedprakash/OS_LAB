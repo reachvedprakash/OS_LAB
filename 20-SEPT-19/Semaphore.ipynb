{
 "cells": [
  {
   "cell_type": "code",
   "execution_count": 1,
   "metadata": {},
   "outputs": [],
   "source": [
    "import threading \n",
    "x = 0"
   ]
  },
  {
   "cell_type": "code",
   "execution_count": 2,
   "metadata": {},
   "outputs": [],
   "source": [
    "def increment(): \n",
    "    global x \n",
    "    x += 5"
   ]
  },
  {
   "cell_type": "code",
   "execution_count": 3,
   "metadata": {},
   "outputs": [],
   "source": [
    "def thread_task(lock): \n",
    "    for _ in range(100): \n",
    "        lock.acquire() \n",
    "        increment() \n",
    "        lock.release() "
   ]
  },
  {
   "cell_type": "code",
   "execution_count": 4,
   "metadata": {},
   "outputs": [],
   "source": [
    "def main_task(): \n",
    "    global x \n",
    "    x = 0\n",
    "  \n",
    "    lock = threading.Lock() \n",
    "  \n",
    "    t1 = threading.Thread(target=thread_task, args=(lock,)) \n",
    "    t2 = threading.Thread(target=thread_task, args=(lock,)) \n",
    "  \n",
    "    t1.start() \n",
    "    t2.start() \n",
    "\n",
    "    t1.join() \n",
    "    t2.join() "
   ]
  },
  {
   "cell_type": "code",
   "execution_count": 5,
   "metadata": {},
   "outputs": [
    {
     "name": "stdout",
     "output_type": "stream",
     "text": [
      "Iteration 0: x = 1000\n",
      "Iteration 1: x = 1000\n",
      "Iteration 2: x = 1000\n",
      "Iteration 3: x = 1000\n",
      "Iteration 4: x = 1000\n",
      "Iteration 5: x = 1000\n",
      "Iteration 6: x = 1000\n",
      "Iteration 7: x = 1000\n",
      "Iteration 8: x = 1000\n",
      "Iteration 9: x = 1000\n"
     ]
    }
   ],
   "source": [
    "if __name__ == \"__main__\": \n",
    "    for i in range(10): \n",
    "        main_task() \n",
    "        print(\"Iteration {0}: x = {1}\".format(i,x))"
   ]
  },
  {
   "cell_type": "code",
   "execution_count": null,
   "metadata": {},
   "outputs": [],
   "source": []
  },
  {
   "cell_type": "code",
   "execution_count": null,
   "metadata": {},
   "outputs": [],
   "source": []
  },
  {
   "cell_type": "code",
   "execution_count": null,
   "metadata": {},
   "outputs": [],
   "source": []
  }
 ],
 "metadata": {
  "kernelspec": {
   "display_name": "Python 3",
   "language": "python",
   "name": "python3"
  },
  "language_info": {
   "codemirror_mode": {
    "name": "ipython",
    "version": 3
   },
   "file_extension": ".py",
   "mimetype": "text/x-python",
   "name": "python",
   "nbconvert_exporter": "python",
   "pygments_lexer": "ipython3",
   "version": "3.7.3"
  }
 },
 "nbformat": 4,
 "nbformat_minor": 2
}
